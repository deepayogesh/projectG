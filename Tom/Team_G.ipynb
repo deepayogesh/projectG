{
 "cells": [
  {
   "cell_type": "code",
   "execution_count": 16,
   "metadata": {},
   "outputs": [],
   "source": [
    "# Import Dependencies\n",
    "import numpy as np\n",
    "import os\n",
    "import pandas as pd\n"
   ]
  },
  {
   "cell_type": "code",
   "execution_count": 17,
   "metadata": {},
   "outputs": [],
   "source": [
    "# Path to file directory and variables for the two files.\n",
    "file_dir = os.path.join(\"..\", \"Data\")\n",
    "\n",
    "# The Kaggle metadata\n",
    "kaggle_file = f'{file_dir}/movies_metadata.csv'\n",
    "\n",
    "# The MovieLens rating data\n",
    "ratings_file = f'{file_dir}/ratings_small.csv'"
   ]
  },
  {
   "cell_type": "code",
   "execution_count": 18,
   "metadata": {},
   "outputs": [],
   "source": [
    "# Import Kaggle metadata, and MovieLens rating data (from Kaggle)\n",
    "\n",
    "# Read in the kaggle metadata and MovieLens ratings CSV files as Pandas DataFrames.\n",
    "kaggle_metadata = pd.read_csv(kaggle_file, low_memory=False)\n",
    "ratings = pd.read_csv(ratings_file)\n",
    "\n",
    "# Import Viewer Movies and Ratings (from IMDB)\n",
    "#viewer_movies = "
   ]
  },
  {
   "cell_type": "code",
   "execution_count": 23,
   "metadata": {},
   "outputs": [
    {
     "data": {
      "text/plain": [
       "belongs_to_collection     4491\n",
       "budget                   45454\n",
       "genres                   45454\n",
       "homepage                  7777\n",
       "id                       45454\n",
       "imdb_id                  45437\n",
       "original_language        45443\n",
       "original_title           45454\n",
       "overview                 44500\n",
       "popularity               45451\n",
       "poster_path              45068\n",
       "production_companies     45451\n",
       "production_countries     45451\n",
       "release_date             45368\n",
       "revenue                  45451\n",
       "runtime                  45194\n",
       "spoken_languages         45451\n",
       "status                   45370\n",
       "tagline                  20406\n",
       "title                    45451\n",
       "video                    45454\n",
       "vote_average             45451\n",
       "vote_count               45451\n",
       "dtype: int64"
      ]
     },
     "execution_count": 23,
     "metadata": {},
     "output_type": "execute_result"
    }
   ],
   "source": [
    "# Check DataFrames\n",
    "kaggle_metadata.count()\n",
    "#kaggle_metadata.head()\n",
    "\n",
    "#ratings.count()\n",
    "#ratings.head()\n"
   ]
  },
  {
   "cell_type": "code",
   "execution_count": 28,
   "metadata": {},
   "outputs": [
    {
     "data": {
      "text/plain": [
       "\"[{'id': 16, 'name': 'Animation'}, {'id': 35, 'name': 'Comedy'}, {'id': 10751, 'name': 'Family'}]\""
      ]
     },
     "execution_count": 28,
     "metadata": {},
     "output_type": "execute_result"
    }
   ],
   "source": [
    "# From Kaggle Data, Keep only columns: genres, id, imdb_id, title\n",
    "kaggle_metadata_test = kaggle_metadata[['genres', 'id', 'imdb_id', 'title']]\n",
    "\n",
    "kaggle_metadata_test['genres'][0]"
   ]
  },
  {
   "cell_type": "code",
   "execution_count": null,
   "metadata": {},
   "outputs": [],
   "source": [
    "# Transform genres data into a simple list:\n"
   ]
  },
  {
   "cell_type": "code",
   "execution_count": null,
   "metadata": {},
   "outputs": [],
   "source": [
    "# Drop timestamp column from ratings DataFrame\n",
    "# and multiply all ratings by 2 to coincide\n",
    "# with IMDB 1-10 Star Ratings\n",
    "ratings.drop(['timestamp'], axis=1, inplace=True)\n",
    "ratings['rating'] = ratings['rating'] * 2\n",
    "\n",
    "ratings.head()"
   ]
  },
  {
   "cell_type": "code",
   "execution_count": 20,
   "metadata": {},
   "outputs": [],
   "source": [
    "# Create movies_df\n",
    "movies_df = kaggle_metadata\n"
   ]
  },
  {
   "cell_type": "code",
   "execution_count": 6,
   "metadata": {},
   "outputs": [],
   "source": [
    "# Transform and merge the ratings DataFrame.\n",
    "# Count Ratings\n",
    "rating_counts = ratings.groupby(['movieId','rating'], as_index=False).count() \\\n",
    "    .rename({'userId':'count'}, axis=1)\n",
    "\n",
    "# Pivot Ratings Count Data\n",
    "rating_counts = ratings.groupby(['movieId','rating'], as_index=False).count() \\\n",
    "    .rename({'userId':'count'}, axis=1) \\\n",
    "    .pivot(index='movieId',columns='rating', values='count')\n",
    "\n",
    "# Rename Ratings Count Columns\n",
    "rating_counts.columns = ['rating_' + str(col) for col in rating_counts.columns]\n",
    "\n",
    "# Merge Rating Counts into movies_df\n",
    "movies_with_ratings_df = pd.merge(movies_df, rating_counts, left_on='id', right_index=True, how='left')\n",
    "\n",
    "# Fill in Missing Ratings with Zeroes\n",
    "movies_with_ratings_df[rating_counts.columns] = movies_with_ratings_df[rating_counts.columns].fillna(0)\n",
    "\n"
   ]
  },
  {
   "cell_type": "code",
   "execution_count": 10,
   "metadata": {},
   "outputs": [
    {
     "data": {
      "text/plain": [
       "belongs_to_collection     4491\n",
       "budget                   45454\n",
       "genres                   45454\n",
       "homepage                  7777\n",
       "id                       45454\n",
       "imdb_id                  45437\n",
       "original_language        45443\n",
       "original_title           45454\n",
       "overview                 44500\n",
       "popularity               45451\n",
       "poster_path              45068\n",
       "production_companies     45451\n",
       "production_countries     45451\n",
       "release_date             45368\n",
       "revenue                  45451\n",
       "runtime                  45194\n",
       "spoken_languages         45451\n",
       "status                   45370\n",
       "tagline                  20406\n",
       "title                    45451\n",
       "video                    45454\n",
       "vote_average             45451\n",
       "vote_count               45451\n",
       "rating_0.5               45454\n",
       "rating_1.0               45454\n",
       "rating_1.5               45454\n",
       "rating_2.0               45454\n",
       "rating_2.5               45454\n",
       "rating_3.0               45454\n",
       "rating_3.5               45454\n",
       "rating_4.0               45454\n",
       "rating_4.5               45454\n",
       "rating_5.0               45454\n",
       "dtype: int64"
      ]
     },
     "execution_count": 10,
     "metadata": {},
     "output_type": "execute_result"
    }
   ],
   "source": [
    "# Check DataFrame\n",
    "movies_with_ratings_df.count()\n",
    "#movies_with_ratings_df.head()\n",
    "#movies_with_ratings_df.tail()"
   ]
  },
  {
   "cell_type": "code",
   "execution_count": null,
   "metadata": {},
   "outputs": [],
   "source": []
  }
 ],
 "metadata": {
  "kernelspec": {
   "display_name": "mlenv",
   "language": "python",
   "name": "mlenv"
  },
  "language_info": {
   "codemirror_mode": {
    "name": "ipython",
    "version": 3
   },
   "file_extension": ".py",
   "mimetype": "text/x-python",
   "name": "python",
   "nbconvert_exporter": "python",
   "pygments_lexer": "ipython3",
   "version": "3.7.10"
  }
 },
 "nbformat": 4,
 "nbformat_minor": 2
}
