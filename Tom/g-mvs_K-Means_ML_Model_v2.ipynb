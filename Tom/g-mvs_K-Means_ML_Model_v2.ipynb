{
 "cells": [
  {
   "cell_type": "code",
   "execution_count": null,
   "metadata": {},
   "outputs": [],
   "source": [
    "# Import Dependencies\n",
    "import os\n",
    "import pandas as pd\n"
   ]
  },
  {
   "cell_type": "code",
   "execution_count": null,
   "metadata": {},
   "outputs": [],
   "source": [
    "# Path to file directory and variables for the two files.\n",
    "file_dir = os.path.join(\"Data\")\n",
    "\n",
    "# imdb Titles metadata\n",
    "titles_metadata_file = f'{file_dir}/title_basics_non-adult_movies.tsv'\n",
    "\n",
    "# imdb Ratings data\n",
    "ratings_data_file = f'{file_dir}/title_ratings.csv'"
   ]
  },
  {
   "cell_type": "code",
   "execution_count": null,
   "metadata": {},
   "outputs": [],
   "source": [
    "# Import imdb Titles metadata, and imdb Ratings data\n",
    "\n",
    "titles_metadata = pd.read_csv(titles_metadata_file, sep='\\t')\n",
    "#ratings_data = pd.read_csv(ratings_file)\n"
   ]
  },
  {
   "cell_type": "code",
   "execution_count": null,
   "metadata": {},
   "outputs": [],
   "source": [
    "# Check DataFrames\n",
    "kaggle_metadata.count()\n",
    "#kaggle_metadata.head()\n",
    "\n",
    "#ratings.count()\n",
    "#ratings.head()\n"
   ]
  },
  {
   "cell_type": "code",
   "execution_count": null,
   "metadata": {},
   "outputs": [],
   "source": [
    "# Keep only Non-Adult Movies\n",
    "kaggle_metadata = kaggle_metadata[kaggle_metadata['adult'] == 'False']"
   ]
  },
  {
   "cell_type": "code",
   "execution_count": null,
   "metadata": {},
   "outputs": [],
   "source": [
    "# From Kaggle Data, Keep only columns: genres, id, imdb_id, title\n",
    "kaggle_metadata = kaggle_metadata[['genres', 'id', 'imdb_id', 'title']]\n",
    "\n",
    "# Add genres_list column to DataFrame\n",
    "kaggle_metadata['genres_list'] = \"\"\n",
    "\n",
    "# Check DataFrame\n",
    "print(kaggle_metadata.shape)\n",
    "kaggle_metadata.head()"
   ]
  },
  {
   "cell_type": "code",
   "execution_count": null,
   "metadata": {},
   "outputs": [],
   "source": [
    "# Extract genres names from genres list of dicts:\n",
    "\n",
    "replace_chars = \"[']\"\n",
    "\n",
    "for index, row in kaggle_metadata.iterrows():\n",
    "    genres_dicts_list = list(ast.literal_eval(row['genres']))\n",
    "    genres_string = str([item['name'] for item in genres_dicts_list])\n",
    "    \n",
    "    for char in replace_chars:\n",
    "        genres_string = genres_string.replace(char, \"\")\n",
    "    \n",
    "    row['genres_list'] = genres_string\n",
    "    \n",
    "\n",
    "print(kaggle_metadata.shape)\n",
    "kaggle_metadata.head()"
   ]
  },
  {
   "cell_type": "code",
   "execution_count": null,
   "metadata": {},
   "outputs": [],
   "source": [
    "# Locate kaggle_metadata Rows with Genres to Drop\n",
    "\n",
    "bad_genres_list = [\"Aniplex\",\n",
    "\"BROSTA TV\",\n",
    "\"Carousel Productions\",\n",
    "\"Foreign\",\n",
    "\"GoHands\",\n",
    "\"Mardock Scramble Production Committee\",\n",
    "\"Odyssey Media\",\n",
    "\"Pulser Productions\",\n",
    "\"Rogue State\",\n",
    "\"Sentai Filmworks\",\n",
    "\"TV Movie\",\n",
    "\"Telescene Film Group Productions\",\n",
    "\"The Cartel\",\n",
    "\"Vision View Entertainment\"]\n",
    "\n",
    "kaggle_metadata[kaggle_metadata['genres_list'].str.contains('|'.join(bad_genres_list))]"
   ]
  },
  {
   "cell_type": "code",
   "execution_count": null,
   "metadata": {},
   "outputs": [],
   "source": [
    "# Drop Rows with Genres to Drop, then Drop 'genres' Column:\n",
    "\n",
    "kaggle_metadata = kaggle_metadata[~kaggle_metadata['genres_list'].str.contains('|'.join(bad_genres_list))]\n",
    "kaggle_metadata = kaggle_metadata[['id', 'imdb_id', 'title', 'genres_list']]\n",
    "\n",
    "# Change kaggle_metadata 'id' column to 'movieId' to match column name in\n",
    "# ratings_small dataset\n",
    "kaggle_metadata.rename(columns = {'id': 'movieId'}, inplace=True)\n",
    "\n",
    "# Convert 'movieId' column to Int64\n",
    "kaggle_metadata['movieId'] = kaggle_metadata['movieId'].astype(int)\n",
    "\n",
    "print(kaggle_metadata.shape)\n",
    "kaggle_metadata.head()\n"
   ]
  },
  {
   "cell_type": "code",
   "execution_count": null,
   "metadata": {},
   "outputs": [],
   "source": [
    "# Check DataFrame\n",
    "\n",
    "#kaggle_metadata['movieId'] = kaggle_metadata['movieId'].astype(int)\n",
    "kaggle_metadata.dtypes"
   ]
  },
  {
   "cell_type": "code",
   "execution_count": null,
   "metadata": {},
   "outputs": [],
   "source": [
    "# Check ratings DataFrame\n",
    "\n",
    "print(ratings.shape)\n",
    "ratings.head()\n",
    "ratings.dtypes"
   ]
  },
  {
   "cell_type": "code",
   "execution_count": null,
   "metadata": {},
   "outputs": [],
   "source": [
    "# Drop timestamp column from ratings DataFrame\n",
    "# and multiply all ratings by 2 to coincide\n",
    "# with IMDB 1-10 Star Ratings\n",
    "\n",
    "ratings.drop(['timestamp'], axis=1, inplace=True)\n",
    "ratings['rating'] = ratings['rating'] * 2\n",
    "\n",
    "print(ratings.shape)\n",
    "ratings.head()\n",
    "ratings.dtypes"
   ]
  },
  {
   "cell_type": "code",
   "execution_count": null,
   "metadata": {},
   "outputs": [],
   "source": [
    "# Create movies_df\n",
    "movies_df = kaggle_metadata\n"
   ]
  },
  {
   "cell_type": "code",
   "execution_count": null,
   "metadata": {},
   "outputs": [],
   "source": [
    "# Transform and merge the ratings DataFrame.\n",
    "# Count Ratings\n",
    "rating_counts = ratings.groupby(['movieId', 'rating'], as_index=False).count() \\\n",
    "    .rename({'userId':'count'}, axis=1)\n",
    "\n",
    "# Pivot Ratings Count Data\n",
    "rating_counts = ratings.groupby(['movieId', 'rating'], as_index=False).count() \\\n",
    "    .rename({'userId':'count'}, axis=1) \\\n",
    "    .pivot(index='movieId', columns='rating', values='count')\n",
    "\n",
    "# Rename Ratings Count Columns\n",
    "rating_counts.columns = ['rating_' + str(col) for col in rating_counts.columns]\n",
    "\n",
    "# Merge Rating Counts into movies_df\n",
    "movies_with_ratings_df = pd.merge(movies_df, rating_counts, left_on='movieId', right_index=True, how='left')\n",
    "\n",
    "# Fill in Missing Ratings with Zeroes\n",
    "#movies_with_ratings_df[rating_counts.columns] = movies_with_ratings_df[rating_counts.columns].fillna(0)\n"
   ]
  },
  {
   "cell_type": "code",
   "execution_count": null,
   "metadata": {},
   "outputs": [],
   "source": [
    "# Check DataFrame\n",
    "\n",
    "print(movies_with_ratings_df.shape)\n",
    "movies_with_ratings_df.count()\n",
    "movies_with_ratings_df.head()\n",
    "#movies_with_ratings_df.tail()"
   ]
  },
  {
   "cell_type": "code",
   "execution_count": null,
   "metadata": {},
   "outputs": [],
   "source": [
    "# Check for NULLS in movies_with_ratings_df\n",
    "\n",
    "movies_with_ratings_df.isnull().sum()"
   ]
  },
  {
   "cell_type": "code",
   "execution_count": null,
   "metadata": {},
   "outputs": [],
   "source": [
    "# Drop Rows with NULLS\n",
    "\n",
    "#movies_with_ratings_df.dropna(how='any')"
   ]
  },
  {
   "cell_type": "code",
   "execution_count": null,
   "metadata": {},
   "outputs": [],
   "source": [
    "# Look for movies which have NULLs for all Ratings\n",
    "\n",
    "movies_with_ratings_df.loc[(movies_with_ratings_df['rating_1.0'].isnull() == True) &\n",
    "                           (movies_with_ratings_df['rating_2.0'].isnull() == True)]"
   ]
  },
  {
   "cell_type": "code",
   "execution_count": null,
   "metadata": {},
   "outputs": [],
   "source": []
  }
 ],
 "metadata": {
  "kernelspec": {
   "display_name": "mlenv",
   "language": "python",
   "name": "mlenv"
  },
  "language_info": {
   "codemirror_mode": {
    "name": "ipython",
    "version": 3
   },
   "file_extension": ".py",
   "mimetype": "text/x-python",
   "name": "python",
   "nbconvert_exporter": "python",
   "pygments_lexer": "ipython3",
   "version": "3.7.10"
  }
 },
 "nbformat": 4,
 "nbformat_minor": 2
}
