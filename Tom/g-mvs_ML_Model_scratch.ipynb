{
 "cells": [
  {
   "cell_type": "code",
   "execution_count": 1,
   "metadata": {},
   "outputs": [],
   "source": [
    "# Import Dependencies\n",
    "import ast\n",
    "import numpy as np\n",
    "import os\n",
    "import pandas as pd\n"
   ]
  },
  {
   "cell_type": "code",
   "execution_count": 2,
   "metadata": {},
   "outputs": [],
   "source": [
    "# Path to file directory and variables for the two files.\n",
    "file_dir = os.path.join(\"..\", \"Data\")\n",
    "\n",
    "# The Kaggle metadata\n",
    "kaggle_file = f'{file_dir}/movies_metadata.csv'\n",
    "\n",
    "# The MovieLens rating data\n",
    "ratings_file = f'{file_dir}/ratings_small.csv'"
   ]
  },
  {
   "cell_type": "code",
   "execution_count": 3,
   "metadata": {},
   "outputs": [],
   "source": [
    "# Import Kaggle metadata, and MovieLens rating data (from Kaggle)\n",
    "\n",
    "# Read in the kaggle metadata and MovieLens ratings CSV files as Pandas DataFrames.\n",
    "kaggle_metadata = pd.read_csv(kaggle_file, low_memory=False)\n",
    "ratings = pd.read_csv(ratings_file)\n",
    "\n",
    "# Import Viewer Movies and Ratings (from IMDB)\n",
    "#viewer_movies = "
   ]
  },
  {
   "cell_type": "code",
   "execution_count": 4,
   "metadata": {},
   "outputs": [
    {
     "data": {
      "text/plain": [
       "adult                    45466\n",
       "belongs_to_collection     4494\n",
       "budget                   45466\n",
       "genres                   45466\n",
       "homepage                  7782\n",
       "id                       45466\n",
       "imdb_id                  45449\n",
       "original_language        45455\n",
       "original_title           45466\n",
       "overview                 44512\n",
       "popularity               45461\n",
       "poster_path              45080\n",
       "production_companies     45463\n",
       "production_countries     45463\n",
       "release_date             45379\n",
       "revenue                  45460\n",
       "runtime                  45203\n",
       "spoken_languages         45460\n",
       "status                   45379\n",
       "tagline                  20412\n",
       "title                    45460\n",
       "video                    45460\n",
       "vote_average             45460\n",
       "vote_count               45460\n",
       "dtype: int64"
      ]
     },
     "execution_count": 4,
     "metadata": {},
     "output_type": "execute_result"
    }
   ],
   "source": [
    "# Check DataFrames\n",
    "kaggle_metadata.count()\n",
    "#kaggle_metadata.head()\n",
    "\n",
    "#ratings.count()\n",
    "#ratings.head()\n"
   ]
  },
  {
   "cell_type": "code",
   "execution_count": 5,
   "metadata": {},
   "outputs": [
    {
     "data": {
      "text/plain": [
       "\"[{'id': 16, 'name': 'Animation'}, {'id': 35, 'name': 'Comedy'}, {'id': 10751, 'name': 'Family'}]\""
      ]
     },
     "execution_count": 5,
     "metadata": {},
     "output_type": "execute_result"
    }
   ],
   "source": [
    "# From Kaggle Data, Keep only columns: genres, id, imdb_id, title\n",
    "kaggle_metadata_test = kaggle_metadata[['genres', 'id', 'imdb_id', 'title']]\n",
    "\n",
    "kaggle_metadata_test['genres'][0]\n",
    "#kaggle_metadata_test.head()"
   ]
  },
  {
   "cell_type": "code",
   "execution_count": 14,
   "metadata": {},
   "outputs": [
    {
     "data": {
      "text/plain": [
       "'Animation'"
      ]
     },
     "execution_count": 14,
     "metadata": {},
     "output_type": "execute_result"
    }
   ],
   "source": [
    "# Extract genres names from list of dicts:\n",
    "#type(kaggle_metadata_test['genres'][0])\n",
    "\n",
    "#type(ast.literal_eval(kaggle_metadata_test['genres'][0]))\n",
    "\n",
    "#for item in kaggle_metadata_test['genres']:\n",
    "    #item = list(ast.literal_eval(item))\n",
    "    #item = \"X\"\n",
    "\n",
    "#kaggle_metadata_test['genres'] = list(ast.literal_eval(kaggle_metadata_test['genres']))\n",
    "\n",
    "test_string = \"[{'id': 16, 'name': 'Animation'}, {'id': 35, 'name': 'Comedy'}, {'id': 10751, 'name': 'Family'}]\"\n",
    "\n",
    "test_list = list(ast.literal_eval(test_string))\n",
    "\n",
    "test_list[0]['name']"
   ]
  },
  {
   "cell_type": "code",
   "execution_count": null,
   "metadata": {},
   "outputs": [],
   "source": [
    "# Check output\n",
    "kaggle_metadata_test.head()\n",
    "\n",
    "type(kaggle_metadata_test['genres'][0])"
   ]
  },
  {
   "cell_type": "code",
   "execution_count": null,
   "metadata": {},
   "outputs": [],
   "source": [
    "# Drop timestamp column from ratings DataFrame\n",
    "# and multiply all ratings by 2 to coincide\n",
    "# with IMDB 1-10 Star Ratings\n",
    "ratings.drop(['timestamp'], axis=1, inplace=True)\n",
    "ratings['rating'] = ratings['rating'] * 2\n",
    "\n",
    "ratings.head()"
   ]
  },
  {
   "cell_type": "code",
   "execution_count": null,
   "metadata": {},
   "outputs": [],
   "source": [
    "# Create movies_df\n",
    "movies_df = kaggle_metadata\n"
   ]
  },
  {
   "cell_type": "code",
   "execution_count": null,
   "metadata": {},
   "outputs": [],
   "source": [
    "# Transform and merge the ratings DataFrame.\n",
    "# Count Ratings\n",
    "rating_counts = ratings.groupby(['movieId','rating'], as_index=False).count() \\\n",
    "    .rename({'userId':'count'}, axis=1)\n",
    "\n",
    "# Pivot Ratings Count Data\n",
    "rating_counts = ratings.groupby(['movieId','rating'], as_index=False).count() \\\n",
    "    .rename({'userId':'count'}, axis=1) \\\n",
    "    .pivot(index='movieId',columns='rating', values='count')\n",
    "\n",
    "# Rename Ratings Count Columns\n",
    "rating_counts.columns = ['rating_' + str(col) for col in rating_counts.columns]\n",
    "\n",
    "# Merge Rating Counts into movies_df\n",
    "movies_with_ratings_df = pd.merge(movies_df, rating_counts, left_on='id', right_index=True, how='left')\n",
    "\n",
    "# Fill in Missing Ratings with Zeroes\n",
    "movies_with_ratings_df[rating_counts.columns] = movies_with_ratings_df[rating_counts.columns].fillna(0)\n",
    "\n"
   ]
  },
  {
   "cell_type": "code",
   "execution_count": null,
   "metadata": {},
   "outputs": [],
   "source": [
    "# Check DataFrame\n",
    "movies_with_ratings_df.count()\n",
    "#movies_with_ratings_df.head()\n",
    "#movies_with_ratings_df.tail()"
   ]
  },
  {
   "cell_type": "code",
   "execution_count": null,
   "metadata": {},
   "outputs": [],
   "source": []
  }
 ],
 "metadata": {
  "kernelspec": {
   "display_name": "mlenv",
   "language": "python",
   "name": "mlenv"
  },
  "language_info": {
   "codemirror_mode": {
    "name": "ipython",
    "version": 3
   },
   "file_extension": ".py",
   "mimetype": "text/x-python",
   "name": "python",
   "nbconvert_exporter": "python",
   "pygments_lexer": "ipython3",
   "version": "3.7.10"
  }
 },
 "nbformat": 4,
 "nbformat_minor": 2
}
